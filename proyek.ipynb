⚠️ File data_29_09_2025.csv tidak ditemukan, menggunakan histori yang ada saja.
Epoch 1/20
[1m11/11[0m [32m━━━━━━━━━━━━━━━━━━━━[0m[37m[0m [1m7s[0m 198ms/step - loss: 1.3024 - mae: 0.9699 - val_loss: 1.4876 - val_mae: 1.0550 - learning_rate: 0.0010
Epoch 2/20
[1m11/11[0m [32m━━━━━━━━━━━━━━━━━━━━[0m[37m[0m [1m1s[0m 120ms/step - loss: 1.1393 - mae: 0.8962 - val_loss: 1.1129 - val_mae: 0.8756 - learning_rate: 0.0010
Epoch 3/20
[1m11/11[0m [32m━━━━━━━━━━━━━━━━━━━━[0m[37m[0m [1m1s[0m 117ms/step - loss: 0.9310 - mae: 0.7856 - val_loss: 0.8685 - val_mae: 0.7523 - learning_rate: 0.0010
Epoch 4/20
[1m11/11[0m [32m━━━━━━━━━━━━━━━━━━━━[0m[37m[0m [1m1s[0m 117ms/step - loss: 0.7702 - mae: 0.7013 - val_loss: 0.6938 - val_mae: 0.6545 - learning_rate: 0.0010
Epoch 5/20
[1m11/11[0m [32m━━━━━━━━━━━━━━━━━━━━[0m[37m[0m [1m1s[0m 118ms/step - loss: 0.6471 - mae: 0.6384 - val_loss: 0.5723 - val_mae: 0.5743 - learning_rate: 0.0010
Epoch 6/20
[1m11/11[0m [32m━━━━━━━━━━━━━━━━━━━━[0m[37m[0m [1m1s[0m 121ms/step - loss: 0.5711 - mae: 0.5946 - val_loss: 0.4987 - val_mae: 0.5163 - learning_rate: 0.0010
Epoch 7/20
[1m11/11[0m [32m━━━━━━━━━━━━━━━━━━━━[0m[37m[0m [1m1s[0m 118ms/step - loss: 0.5402 - mae: 0.5753 - val_loss: 0.4742 - val_mae: 0.4989 - learning_rate: 0.0010
Epoch 8/20
[1m11/11[0m [32m━━━━━━━━━━━━━━━━━━━━[0m[37m[0m [1m1s[0m 124ms/step - loss: 0.5015 - mae: 0.5468 - val_loss: 0.4577 - val_mae: 0.4817 - learning_rate: 0.0010
Epoch 9/20
[1m11/11[0m [32m━━━━━━━━━━━━━━━━━━━━[0m[37m[0m [1m1s[0m 116ms/step - loss: 0.4817 - mae: 0.5340 - val_loss: 0.4665 - val_mae: 0.5004 - learning_rate: 0.0010
Epoch 10/20
[1m11/11[0m [32m━━━━━━━━━━━━━━━━━━━━[0m[37m[0m [1m1s[0m 116ms/step - loss: 0.4692 - mae: 0.5238 - val_loss: 0.4294 - val_mae: 0.4364 - learning_rate: 0.0010
Epoch 11/20
[1m11/11[0m [32m━━━━━━━━━━━━━━━━━━━━[0m[37m[0m [1m1s[0m 116ms/step - loss: 0.4606 - mae: 0.5157 - val_loss: 0.4195 - val_mae: 0.4204 - learning_rate: 0.0010
Epoch 12/20
[1m11/11[0m [32m━━━━━━━━━━━━━━━━━━━━[0m[37m[0m [1m1s[0m 117ms/step - loss: 0.4513 - mae: 0.5084 - val_loss: 0.4264 - val_mae: 0.4313 - learning_rate: 0.0010
Epoch 13/20
[1m11/11[0m [32m━━━━━━━━━━━━━━━━━━━━[0m[37m[0m [1m1s[0m 119ms/step - loss: 0.4486 - mae: 0.5065 - val_loss: 0.4396 - val_mae: 0.4597 - learning_rate: 0.0010
Epoch 14/20
[1m11/11[0m [32m━━━━━━━━━━━━━━━━━━━━[0m[37m[0m [1m1s[0m 119ms/step - loss: 0.4481 - mae: 0.5043 - val_loss: 0.4370 - val_mae: 0.4552 - learning_rate: 0.0010
Epoch 15/20
[1m11/11[0m [32m━━━━━━━━━━━━━━━━━━━━[0m[37m[0m [1m1s[0m 122ms/step - loss: 0.4425 - mae: 0.4996 - val_loss: 0.4270 - val_mae: 0.4343 - learning_rate: 0.0010
Epoch 16/20
[1m11/11[0m [32m━━━━━━━━━━━━━━━━━━━━[0m[37m[0m [1m1s[0m 121ms/step - loss: 0.4411 - mae: 0.4982 - val_loss: 0.4220 - val_mae: 0.4216 - learning_rate: 0.0010
Epoch 17/20
[1m11/11[0m [32m━━━━━━━━━━━━━━━━━━━━[0m[37m[0m [1m1s[0m 123ms/step - loss: 0.4337 - mae: 0.4921 - val_loss: 0.4196 - val_mae: 0.4158 - learning_rate: 5.0000e-04
Epoch 18/20
[1m11/11[0m [32m━━━━━━━━━━━━━━━━━━━━[0m[37m[0m [1m1s[0m 119ms/step - loss: 0.4332 - mae: 0.4917 - val_loss: 0.4263 - val_mae: 0.4330 - learning_rate: 5.0000e-04
Epoch 19/20
[1m11/11[0m [32m━━━━━━━━━━━━━━━━━━━━[0m[37m[0m [1m1s[0m 119ms/step - loss: 0.4329 - mae: 0.4926 - val_loss: 0.4125 - val_mae: 0.4037 - learning_rate: 5.0000e-04
Epoch 20/20
[1m11/11[0m [32m━━━━━━━━━━━━━━━━━━━━[0m[37m[0m [1m1s[0m 120ms/step - loss: 0.4287 - mae: 0.4863 - val_loss: 0.4209 - val_mae: 0.4187 - learning_rate: 5.0000e-04
✅ Model selesai di-train.
Skipping qpz6e8, error: Tidak cukup data untuk geo_hash qpz6e8
Skipping qqgb0x, error: Tidak cukup data untuk geo_hash qqgb0x
Skipping qqgeut, error: Tidak cukup data untuk geo_hash qqgeut
Skipping qqgfmy, error: Tidak cukup data untuk geo_hash qqgfmy
Skipping qqgfps, error: Tidak cukup data untuk geo_hash qqgfps
Skipping qqgfqd, error: Tidak cukup data untuk geo_hash qqgfqd
Skipping qqgfqp, error: Tidak cukup data untuk geo_hash qqgfqp
Skipping qqgfqr, error: Tidak cukup data untuk geo_hash qqgfqr
Skipping qqgfst, error: Tidak cukup data untuk geo_hash qqgfst
Skipping qqgftc, error: Tidak cukup data untuk geo_hash qqgftc
Skipping qqgfw1, error: Tidak cukup data untuk geo_hash qqgfw1
Skipping qqgfyk, error: Tidak cukup data untuk geo_hash qqgfyk
Skipping qqgfz2, error: Tidak cukup data untuk geo_hash qqgfz2
Skipping qqgfzh, error: Tidak cukup data untuk geo_hash qqgfzh
Skipping qqggc5, error: Tidak cukup data untuk geo_hash qqggc5
Skipping qqgggv, error: Tidak cukup data untuk geo_hash qqgggv
Skipping qqggn2, error: Tidak cukup data untuk geo_hash qqggn2
Skipping qqggny, error: Tidak cukup data untuk geo_hash qqggny
Skipping qqggpw, error: Tidak cukup data untuk geo_hash qqggpw
Skipping qqggqm, error: Tidak cukup data untuk geo_hash qqggqm
Skipping qqggqz, error: Tidak cukup data untuk geo_hash qqggqz
Skipping qqggrf, error: Tidak cukup data untuk geo_hash qqggrf
Skipping qqggt4, error: Tidak cukup data untuk geo_hash qqggt4
Skipping qqggtd, error: Tidak cukup data untuk geo_hash qqggtd
Skipping qqggtt, error: Tidak cukup data untuk geo_hash qqggtt
Skipping qqggvh, error: Tidak cukup data untuk geo_hash qqggvh
Skipping qqggw5, error: Tidak cukup data untuk geo_hash qqggw5
Skipping qqggwt, error: Tidak cukup data untuk geo_hash qqggwt
Skipping qqggx5, error: Tidak cukup data untuk geo_hash qqggx5
Skipping qqggx6, error: Tidak cukup data untuk geo_hash qqggx6
Skipping qqggx8, error: Tidak cukup data untuk geo_hash qqggx8
Skipping qqggxx, error: Tidak cukup data untuk geo_hash qqggxx
Skipping qqggy8, error: Tidak cukup data untuk geo_hash qqggy8
Skipping qqggyc, error: Tidak cukup data untuk geo_hash qqggyc
Skipping qqggyr, error: Tidak cukup data untuk geo_hash qqggyr
Skipping qqggz1, error: Tidak cukup data untuk geo_hash qqggz1
Skipping qqggz5, error: Tidak cukup data untuk geo_hash qqggz5
Skipping qqggzr, error: Tidak cukup data untuk geo_hash qqggzr
Skipping qqgmpg, error: Tidak cukup data untuk geo_hash qqgmpg
Skipping qqgmpk, error: Tidak cukup data untuk geo_hash qqgmpk
Skipping qqgmtt, error: Tidak cukup data untuk geo_hash qqgmtt
Skipping qqgsr1, error: Tidak cukup data untuk geo_hash qqgsr1
Skipping qqgsxx, error: Tidak cukup data untuk geo_hash qqgsxx
Skipping qqgu2n, error: Tidak cukup data untuk geo_hash qqgu2n
Skipping qqgu3f, error: Tidak cukup data untuk geo_hash qqgu3f
Skipping qqgu4f, error: Tidak cukup data untuk geo_hash qqgu4f
Skipping qqgu4q, error: Tidak cukup data untuk geo_hash qqgu4q
Skipping qqgu4s, error: Tidak cukup data untuk geo_hash qqgu4s
Skipping qqgu58, error: Tidak cukup data untuk geo_hash qqgu58
Skipping qqgu5p, error: Tidak cukup data untuk geo_hash qqgu5p
Skipping qqgu5s, error: Tidak cukup data untuk geo_hash qqgu5s
Skipping qqgu6h, error: Tidak cukup data untuk geo_hash qqgu6h
Skipping qqgu6r, error: Tidak cukup data untuk geo_hash qqgu6r
Skipping qqgu75, error: Tidak cukup data untuk geo_hash qqgu75
Skipping qqgu93, error: Tidak cukup data untuk geo_hash qqgu93
Skipping qqgu9v, error: Tidak cukup data untuk geo_hash qqgu9v
Skipping qqgucs, error: Tidak cukup data untuk geo_hash qqgucs
Skipping qqgud5, error: Tidak cukup data untuk geo_hash qqgud5
Skipping qqgudx, error: Tidak cukup data untuk geo_hash qqgudx
Skipping qqguf6, error: Tidak cukup data untuk geo_hash qqguf6
Skipping qqguf8, error: Tidak cukup data untuk geo_hash qqguf8
Skipping qqgug0, error: Tidak cukup data untuk geo_hash qqgug0
Skipping qqgug5, error: Tidak cukup data untuk geo_hash qqgug5
Skipping qqgugn, error: Tidak cukup data untuk geo_hash qqgugn
Skipping qqguh3, error: Tidak cukup data untuk geo_hash qqguh3
Skipping qqguh4, error: Tidak cukup data untuk geo_hash qqguh4
Skipping qqguhk, error: Tidak cukup data untuk geo_hash qqguhk
Skipping qqguj8, error: Tidak cukup data untuk geo_hash qqguj8
Skipping qqgujk, error: Tidak cukup data untuk geo_hash qqgujk
Skipping qqgujy, error: Tidak cukup data untuk geo_hash qqgujy
Skipping qqguk0, error: Tidak cukup data untuk geo_hash qqguk0
Skipping qqguk3, error: Tidak cukup data untuk geo_hash qqguk3
Skipping qqguk9, error: Tidak cukup data untuk geo_hash qqguk9
Skipping qqgukp, error: Tidak cukup data untuk geo_hash qqgukp
Skipping qqgumg, error: Tidak cukup data untuk geo_hash qqgumg
Skipping qqgumz, error: Tidak cukup data untuk geo_hash qqgumz
Skipping qqgun4, error: Tidak cukup data untuk geo_hash qqgun4
Skipping qqgunh, error: Tidak cukup data untuk geo_hash qqgunh
Skipping qqgunn, error: Tidak cukup data untuk geo_hash qqgunn
Skipping qqgunw, error: Tidak cukup data untuk geo_hash qqgunw
Skipping qqguny, error: Tidak cukup data untuk geo_hash qqguny
Skipping qqgunz, error: Tidak cukup data untuk geo_hash qqgunz
Skipping qqgupk, error: Tidak cukup data untuk geo_hash qqgupk
Skipping qqguq5, error: Tidak cukup data untuk geo_hash qqguq5
Skipping qqguqb, error: Tidak cukup data untuk geo_hash qqguqb
Skipping qqguqm, error: Tidak cukup data untuk geo_hash qqguqm
Skipping qqguqp, error: Tidak cukup data untuk geo_hash qqguqp
Skipping qqguqv, error: Tidak cukup data untuk geo_hash qqguqv
Skipping qqgur1, error: Tidak cukup data untuk geo_hash qqgur1
Skipping qqgur7, error: Tidak cukup data untuk geo_hash qqgur7
Skipping qqgurf, error: Tidak cukup data untuk geo_hash qqgurf
Skipping qqgurq, error: Tidak cukup data untuk geo_hash qqgurq
Skipping qqgurz, error: Tidak cukup data untuk geo_hash qqgurz
Skipping qqgut0, error: Tidak cukup data untuk geo_hash qqgut0
Skipping qqgut7, error: Tidak cukup data untuk geo_hash qqgut7
Skipping qqgut8, error: Tidak cukup data untuk geo_hash qqgut8
Skipping qqguu1, error: Tidak cukup data untuk geo_hash qqguu1
Skipping qqguu4, error: Tidak cukup data untuk geo_hash qqguu4
Skipping qqguuc, error: Tidak cukup data untuk geo_hash qqguuc
Skipping qqguut, error: Tidak cukup data untuk geo_hash qqguut
Skipping qqguux, error: Tidak cukup data untuk geo_hash qqguux
Skipping qqguv3, error: Tidak cukup data untuk geo_hash qqguv3
Skipping qqguvk, error: Tidak cukup data untuk geo_hash qqguvk
Skipping qqguvs, error: Tidak cukup data untuk geo_hash qqguvs
Skipping qqguvt, error: Tidak cukup data untuk geo_hash qqguvt
Skipping qqguvu, error: Tidak cukup data untuk geo_hash qqguvu
Skipping qqguvv, error: Tidak cukup data untuk geo_hash qqguvv
Skipping qqguw3, error: Tidak cukup data untuk geo_hash qqguw3
Skipping qqguw6, error: Tidak cukup data untuk geo_hash qqguw6
Skipping qqguw9, error: Tidak cukup data untuk geo_hash qqguw9
Skipping qqguwc, error: Tidak cukup data untuk geo_hash qqguwc
Skipping qqguwe, error: Tidak cukup data untuk geo_hash qqguwe
Skipping qqguwf, error: Tidak cukup data untuk geo_hash qqguwf
Skipping qqguwg, error: Tidak cukup data untuk geo_hash qqguwg
Skipping qqguwr, error: Tidak cukup data untuk geo_hash qqguwr
Skipping qqguws, error: Tidak cukup data untuk geo_hash qqguws
Skipping qqguwt, error: Tidak cukup data untuk geo_hash qqguwt
Skipping qqguwu, error: Tidak cukup data untuk geo_hash qqguwu
Skipping qqguwv, error: Tidak cukup data untuk geo_hash qqguwv
Skipping qqguww, error: Tidak cukup data untuk geo_hash qqguww
Skipping qqguwz, error: Tidak cukup data untuk geo_hash qqguwz
Skipping qqgux3, error: Tidak cukup data untuk geo_hash qqgux3
Skipping qqgux5, error: Tidak cukup data untuk geo_hash qqgux5
Skipping qqgux6, error: Tidak cukup data untuk geo_hash qqgux6
Skipping qqguxb, error: Tidak cukup data untuk geo_hash qqguxb
Skipping qqguxh, error: Tidak cukup data untuk geo_hash qqguxh
Skipping qqguxr, error: Tidak cukup data untuk geo_hash qqguxr
Skipping qqguy3, error: Tidak cukup data untuk geo_hash qqguy3
Skipping qqguyc, error: Tidak cukup data untuk geo_hash qqguyc
Skipping qqguyd, error: Tidak cukup data untuk geo_hash qqguyd
Skipping qqguye, error: Tidak cukup data untuk geo_hash qqguye
Skipping qqguyf, error: Tidak cukup data untuk geo_hash qqguyf
Skipping qqguyj, error: Tidak cukup data untuk geo_hash qqguyj
Skipping qqguyp, error: Tidak cukup data untuk geo_hash qqguyp
Skipping qqguys, error: Tidak cukup data untuk geo_hash qqguys
Skipping qqguyu, error: Tidak cukup data untuk geo_hash qqguyu
Skipping qqguyz, error: Tidak cukup data untuk geo_hash qqguyz
Skipping qqguz0, error: Tidak cukup data untuk geo_hash qqguz0
Skipping qqguz2, error: Tidak cukup data untuk geo_hash qqguz2
Skipping qqguzb, error: Tidak cukup data untuk geo_hash qqguzb
Skipping qqguzg, error: Tidak cukup data untuk geo_hash qqguzg
Skipping qqguzj, error: Tidak cukup data untuk geo_hash qqguzj
Skipping qqguzr, error: Tidak cukup data untuk geo_hash qqguzr
Skipping qqguzv, error: Tidak cukup data untuk geo_hash qqguzv
Skipping qqgv43, error: Tidak cukup data untuk geo_hash qqgv43
Skipping qqgv59, error: Tidak cukup data untuk geo_hash qqgv59
Skipping qqgv6v, error: Tidak cukup data untuk geo_hash qqgv6v
Skipping qqgvh1, error: Tidak cukup data untuk geo_hash qqgvh1
Skipping qqgvhd, error: Tidak cukup data untuk geo_hash qqgvhd
Skipping qqgvhk, error: Tidak cukup data untuk geo_hash qqgvhk
Skipping qqgvhz, error: Tidak cukup data untuk geo_hash qqgvhz
Skipping qqgvkb, error: Tidak cukup data untuk geo_hash qqgvkb
Skipping qqgvkh, error: Tidak cukup data untuk geo_hash qqgvkh
Skipping qqgvn1, error: Tidak cukup data untuk geo_hash qqgvn1
Skipping qqgvn8, error: Tidak cukup data untuk geo_hash qqgvn8
Skipping qqgvne, error: Tidak cukup data untuk geo_hash qqgvne
Skipping qqgvnm, error: Tidak cukup data untuk geo_hash qqgvnm
Skipping qqgvnn, error: Tidak cukup data untuk geo_hash qqgvnn
Skipping qqgvnr, error: Tidak cukup data untuk geo_hash qqgvnr
Skipping qqgvnu, error: Tidak cukup data untuk geo_hash qqgvnu
Skipping qqgvp0, error: Tidak cukup data untuk geo_hash qqgvp0
Skipping qqgvp3, error: Tidak cukup data untuk geo_hash qqgvp3
Skipping qqgvp9, error: Tidak cukup data untuk geo_hash qqgvp9
Skipping qqgvpc, error: Tidak cukup data untuk geo_hash qqgvpc
Skipping qqgvpd, error: Tidak cukup data untuk geo_hash qqgvpd
Skipping qqgvph, error: Tidak cukup data untuk geo_hash qqgvph
Skipping qqsxbh, error: Tidak cukup data untuk geo_hash qqsxbh
Skipping qqsyhq, error: Tidak cukup data untuk geo_hash qqsyhq
Skipping qqtn3d, error: Tidak cukup data untuk geo_hash qqtn3d
Skipping qqtttz, error: Tidak cukup data untuk geo_hash qqtttz
Skipping qqttv8, error: Tidak cukup data untuk geo_hash qqttv8
Skipping qqu08u, error: Tidak cukup data untuk geo_hash qqu08u
Skipping qqu09e, error: Tidak cukup data untuk geo_hash qqu09e
Skipping qqu1ez, error: Tidak cukup data untuk geo_hash qqu1ez
Skipping qqu1nn, error: Tidak cukup data untuk geo_hash qqu1nn
Skipping qqu2n8, error: Tidak cukup data untuk geo_hash qqu2n8
Skipping qqu2rd, error: Tidak cukup data untuk geo_hash qqu2rd
Skipping qqu2vm, error: Tidak cukup data untuk geo_hash qqu2vm
Skipping qqu2zj, error: Tidak cukup data untuk geo_hash qqu2zj
Skipping qqu30r, error: Tidak cukup data untuk geo_hash qqu30r
Skipping qqu486, error: Tidak cukup data untuk geo_hash qqu486
Skipping qqu505, error: Tidak cukup data untuk geo_hash qqu505
Skipping qqu58z, error: Tidak cukup data untuk geo_hash qqu58z
Skipping qqu59s, error: Tidak cukup data untuk geo_hash qqu59s
Skipping qqu5bh, error: Tidak cukup data untuk geo_hash qqu5bh
Skipping qqu5br, error: Tidak cukup data untuk geo_hash qqu5br
Skipping qqu5d7, error: Tidak cukup data untuk geo_hash qqu5d7
Skipping qqu5f0, error: Tidak cukup data untuk geo_hash qqu5f0
Skipping qqu5fj, error: Tidak cukup data untuk geo_hash qqu5fj
Skipping qqu5vz, error: Tidak cukup data untuk geo_hash qqu5vz
Skipping qqu5yc, error: Tidak cukup data untuk geo_hash qqu5yc
Skipping qqu5yq, error: Tidak cukup data untuk geo_hash qqu5yq
Skipping qqu6uc, error: Tidak cukup data untuk geo_hash qqu6uc
Skipping qqu7bf, error: Tidak cukup data untuk geo_hash qqu7bf
Skipping qqu7dr, error: Tidak cukup data untuk geo_hash qqu7dr
Skipping qqu7mx, error: Tidak cukup data untuk geo_hash qqu7mx
Skipping qqu7t6, error: Tidak cukup data untuk geo_hash qqu7t6
Skipping qqu81h, error: Tidak cukup data untuk geo_hash qqu81h
Skipping qqu82n, error: Tidak cukup data untuk geo_hash qqu82n
Skipping qqu832, error: Tidak cukup data untuk geo_hash qqu832
Skipping qqu837, error: Tidak cukup data untuk geo_hash qqu837
Skipping qqu83j, error: Tidak cukup data untuk geo_hash qqu83j
Skipping qqu85b, error: Tidak cukup data untuk geo_hash qqu85b
Skipping qqu86t, error: Tidak cukup data untuk geo_hash qqu86t
Skipping qqu88q, error: Tidak cukup data untuk geo_hash qqu88q
Skipping qqu88z, error: Tidak cukup data untuk geo_hash qqu88z
Skipping qqu89b, error: Tidak cukup data untuk geo_hash qqu89b
Skipping qqu8b6, error: Tidak cukup data untuk geo_hash qqu8b6
Skipping qqu8dv, error: Tidak cukup data untuk geo_hash qqu8dv
Skipping qqu9pg, error: Tidak cukup data untuk geo_hash qqu9pg
Skipping qqudev, error: Tidak cukup data untuk geo_hash qqudev
Skipping qquh05, error: Tidak cukup data untuk geo_hash qquh05
Skipping qquh14, error: Tidak cukup data untuk geo_hash qquh14
Skipping qquh16, error: Tidak cukup data untuk geo_hash qquh16
Skipping qquh2b, error: Tidak cukup data untuk geo_hash qquh2b
Skipping qquh2c, error: Tidak cukup data untuk geo_hash qquh2c
Skipping qquh3t, error: Tidak cukup data untuk geo_hash qquh3t
Skipping qquh4v, error: Tidak cukup data untuk geo_hash qquh4v
Skipping qquh53, error: Tidak cukup data untuk geo_hash qquh53
Skipping qquh5z, error: Tidak cukup data untuk geo_hash qquh5z
Skipping qquh64, error: Tidak cukup data untuk geo_hash qquh64
Skipping qquh6q, error: Tidak cukup data untuk geo_hash qquh6q
Skipping qquh6t, error: Tidak cukup data untuk geo_hash qquh6t
Skipping qquh6w, error: Tidak cukup data untuk geo_hash qquh6w
Skipping qquh7n, error: Tidak cukup data untuk geo_hash qquh7n
Skipping qquh8r, error: Tidak cukup data untuk geo_hash qquh8r
Skipping qquh97, error: Tidak cukup data untuk geo_hash qquh97
Skipping qquh9c, error: Tidak cukup data untuk geo_hash qquh9c
Skipping qquhb1, error: Tidak cukup data untuk geo_hash qquhb1
Skipping qquhb2, error: Tidak cukup data untuk geo_hash qquhb2
Skipping qquhbd, error: Tidak cukup data untuk geo_hash qquhbd
Skipping qquhbp, error: Tidak cukup data untuk geo_hash qquhbp
Skipping qquhbz, error: Tidak cukup data untuk geo_hash qquhbz
Skipping qquhcu, error: Tidak cukup data untuk geo_hash qquhcu
Skipping qquhdc, error: Tidak cukup data untuk geo_hash qquhdc
Skipping qquhdf, error: Tidak cukup data untuk geo_hash qquhdf
Skipping qquhdy, error: Tidak cukup data untuk geo_hash qquhdy
Skipping qquheq, error: Tidak cukup data untuk geo_hash qquheq
Skipping qquhes, error: Tidak cukup data untuk geo_hash qquhes
Skipping qquhf3, error: Tidak cukup data untuk geo_hash qquhf3
Skipping qquhfg, error: Tidak cukup data untuk geo_hash qquhfg
Skipping qquhfn, error: Tidak cukup data untuk geo_hash qquhfn
Skipping qquhft, error: Tidak cukup data untuk geo_hash qquhft
Skipping qquhfy, error: Tidak cukup data untuk geo_hash qquhfy
Skipping qquhg4, error: Tidak cukup data untuk geo_hash qquhg4
Skipping qquhhy, error: Tidak cukup data untuk geo_hash qquhhy
Skipping qquhmt, error: Tidak cukup data untuk geo_hash qquhmt
Skipping qquhnt, error: Tidak cukup data untuk geo_hash qquhnt
Skipping qquhq8, error: Tidak cukup data untuk geo_hash qquhq8
Skipping qquhsb, error: Tidak cukup data untuk geo_hash qquhsb
Skipping qquj02, error: Tidak cukup data untuk geo_hash qquj02
Skipping qquj03, error: Tidak cukup data untuk geo_hash qquj03
Skipping qquj0m, error: Tidak cukup data untuk geo_hash qquj0m
Skipping qquj0x, error: Tidak cukup data untuk geo_hash qquj0x
Skipping qquj0z, error: Tidak cukup data untuk geo_hash qquj0z
Skipping qquk18, error: Tidak cukup data untuk geo_hash qquk18
Skipping qquk49, error: Tidak cukup data untuk geo_hash qquk49
Skipping qqv0k2, error: Tidak cukup data untuk geo_hash qqv0k2
Skipping qqv1y1, error: Tidak cukup data untuk geo_hash qqv1y1
Skipping qqv2dw, error: Tidak cukup data untuk geo_hash qqv2dw
Skipping qqv50t, error: Tidak cukup data untuk geo_hash qqv50t
Skipping qqv8gf, error: Tidak cukup data untuk geo_hash qqv8gf
Skipping qqv8gm, error: Tidak cukup data untuk geo_hash qqv8gm
Skipping qqvbu2, error: Tidak cukup data untuk geo_hash qqvbu2
Skipping qqvbxr, error: Tidak cukup data untuk geo_hash qqvbxr
Skipping qqvby3, error: Tidak cukup data untuk geo_hash qqvby3
Skipping qqvbzc, error: Tidak cukup data untuk geo_hash qqvbzc
Skipping qqvbze, error: Tidak cukup data untuk geo_hash qqvbze
Skipping qqw7xx, error: Tidak cukup data untuk geo_hash qqw7xx
Skipping qqw7xz, error: Tidak cukup data untuk geo_hash qqw7xz
Skipping qqw7zw, error: Tidak cukup data untuk geo_hash qqw7zw
Skipping qqweb6, error: Tidak cukup data untuk geo_hash qqweb6
Skipping qqwhp7, error: Tidak cukup data untuk geo_hash qqwhp7
Skipping qqwry0, error: Tidak cukup data untuk geo_hash qqwry0
Skipping qqwuct, error: Tidak cukup data untuk geo_hash qqwuct
Skipping qqwv08, error: Tidak cukup data untuk geo_hash qqwv08
Skipping qqww69, error: Tidak cukup data untuk geo_hash qqww69
Skipping qqwx27, error: Tidak cukup data untuk geo_hash qqwx27
Skipping qqwx2g, error: Tidak cukup data untuk geo_hash qqwx2g
Skipping qqwxb8, error: Tidak cukup data untuk geo_hash qqwxb8
Skipping qqwxbg, error: Tidak cukup data untuk geo_hash qqwxbg
Skipping qqwzsj, error: Tidak cukup data untuk geo_hash qqwzsj
Skipping qqy08y, error: Tidak cukup data untuk geo_hash qqy08y
Skipping qqy2n8, error: Tidak cukup data untuk geo_hash qqy2n8
Skipping qqy2pf, error: Tidak cukup data untuk geo_hash qqy2pf
Skipping qqy2pp, error: Tidak cukup data untuk geo_hash qqy2pp
Skipping qqy2pv, error: Tidak cukup data untuk geo_hash qqy2pv
Skipping qqy80u, error: Tidak cukup data untuk geo_hash qqy80u
Skipping qqy819, error: Tidak cukup data untuk geo_hash qqy819
Skipping qqy81y, error: Tidak cukup data untuk geo_hash qqy81y
Skipping qqy828, error: Tidak cukup data untuk geo_hash qqy828
Skipping qqy82d, error: Tidak cukup data untuk geo_hash qqy82d
Skipping qqydr0, error: Tidak cukup data untuk geo_hash qqydr0
Skipping qr3g1m, error: Tidak cukup data untuk geo_hash qr3g1m
Skipping qr3jkb, error: Tidak cukup data untuk geo_hash qr3jkb
Skipping qr4c6b, error: Tidak cukup data untuk geo_hash qr4c6b
Skipping qr4c6y, error: Tidak cukup data untuk geo_hash qr4c6y
Skipping qr4cs0, error: Tidak cukup data untuk geo_hash qr4cs0
Skipping qr4fuk, error: Tidak cukup data untuk geo_hash qr4fuk
Skipping qr6rp6, error: Tidak cukup data untuk geo_hash qr6rp6
Skipping qr6rpc, error: Tidak cukup data untuk geo_hash qr6rpc
Skipping qr6rpd, error: Tidak cukup data untuk geo_hash qr6rpd
Skipping qr6rpy, error: Tidak cukup data untuk geo_hash qr6rpy
Skipping qr6rqc, error: Tidak cukup data untuk geo_hash qr6rqc
Skipping qr6wbq, error: Tidak cukup data untuk geo_hash qr6wbq
Skipping qr6x0p, error: Tidak cukup data untuk geo_hash qr6x0p
Skipping qrvxxy, error: Tidak cukup data untuk geo_hash qrvxxy
Skipping qw3ytk, error: Tidak cukup data untuk geo_hash qw3ytk
Skipping qw3yug, error: Tidak cukup data untuk geo_hash qw3yug
Skipping qw3ywj, error: Tidak cukup data untuk geo_hash qw3ywj
Skipping qw6x4k, error: Tidak cukup data untuk geo_hash qw6x4k
Skipping qw84f6, error: Tidak cukup data untuk geo_hash qw84f6
Skipping qw84g4, error: Tidak cukup data untuk geo_hash qw84g4
Skipping qw8hke, error: Tidak cukup data untuk geo_hash qw8hke
Skipping qw8hy2, error: Tidak cukup data untuk geo_hash qw8hy2
Skipping qw8k3n, error: Tidak cukup data untuk geo_hash qw8k3n
Skipping qw8nen, error: Tidak cukup data untuk geo_hash qw8nen
Skipping qw8nhq, error: Tidak cukup data untuk geo_hash qw8nhq
Skipping qw8nj4, error: Tidak cukup data untuk geo_hash qw8nj4
Skipping qw8nmy, error: Tidak cukup data untuk geo_hash qw8nmy
Skipping qw8nqr, error: Tidak cukup data untuk geo_hash qw8nqr
Skipping qw8nte, error: Tidak cukup data untuk geo_hash qw8nte
Skipping qw8p68, error: Tidak cukup data untuk geo_hash qw8p68
Skipping qxg0gp, error: Tidak cukup data untuk geo_hash qxg0gp
Skipping qxg159, error: Tidak cukup data untuk geo_hash qxg159
Skipping qxhfmb, error: Tidak cukup data untuk geo_hash qxhfmb
Skipping qxhfsc, error: Tidak cukup data untuk geo_hash qxhfsc
Skipping qxhfsy, error: Tidak cukup data untuk geo_hash qxhfsy
Skipping qxhftd, error: Tidak cukup data untuk geo_hash qxhftd
Skipping qxhftz, error: Tidak cukup data untuk geo_hash qxhftz
Skipping qxhfwh, error: Tidak cukup data untuk geo_hash qxhfwh
Skipping qxhfwj, error: Tidak cukup data untuk geo_hash qxhfwj
Skipping qxr153, error: Tidak cukup data untuk geo_hash qxr153
Skipping w0whm4, error: Tidak cukup data untuk geo_hash w0whm4
Skipping w0wht9, error: Tidak cukup data untuk geo_hash w0wht9
Skipping w204gg, error: Tidak cukup data untuk geo_hash w204gg
Skipping w204us, error: Tidak cukup data untuk geo_hash w204us
Skipping w204ut, error: Tidak cukup data untuk geo_hash w204ut
Skipping w21yq4, error: Tidak cukup data untuk geo_hash w21yq4
Skipping w21yrk, error: Tidak cukup data untuk geo_hash w21yrk
Skipping w21ywb, error: Tidak cukup data untuk geo_hash w21ywb
Skipping w24m1j, error: Tidak cukup data untuk geo_hash w24m1j
Skipping w24m4p, error: Tidak cukup data untuk geo_hash w24m4p
Skipping w8589q, error: Tidak cukup data untuk geo_hash w8589q
Skipping w858c1, error: Tidak cukup data untuk geo_hash w858c1
✅ Prediksi untuk 29_09_2025 tersimpan di prediksi_29_09_2025.csv
⚠️ Data aktual untuk 28_09_2025 belum tersedia atau data kosong, evaluasi dilewati.
